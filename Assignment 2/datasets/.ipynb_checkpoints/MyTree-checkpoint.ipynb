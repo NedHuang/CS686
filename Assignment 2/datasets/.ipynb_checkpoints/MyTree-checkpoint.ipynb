{
 "cells": [
  {
   "cell_type": "code",
   "execution_count": 1,
   "metadata": {},
   "outputs": [
    {
     "name": "stdout",
     "output_type": "stream",
     "text": [
      "(42822, 2)\n",
      "(42874, 2)\n",
      "(1500,)\n",
      "(1500,)\n"
     ]
    }
   ],
   "source": [
    "# import packages\n",
    "import numpy as np\n",
    "from scipy.sparse import csr_matrix\n",
    "from math import log2\n",
    "\n",
    "# read data\n",
    "training_data = np.loadtxt(fname=\"trainData.txt\",dtype=int)\n",
    "testing_data = np.loadtxt(fname=\"testData.txt\",dtype=int)\n",
    "training_label=np.loadtxt(fname=\"trainLabel.txt\",dtype=int)\n",
    "testing_label=np.loadtxt(fname=\"testLabel.txt\",dtype=int)\n",
    "\n",
    "print(training_data.shape)\n",
    "print(testing_data.shape)\n",
    "print(training_label.shape)\n",
    "print(testing_label.shape)\n",
    "\n",
    "wordIdMax = max(max(training_data[:,1]),max(testing_data[:,1]))\n",
    "# print(nWords)"
   ]
  },
  {
   "cell_type": "code",
   "execution_count": 2,
   "metadata": {},
   "outputs": [
    {
     "name": "stdout",
     "output_type": "stream",
     "text": [
      "['lately', 'fake', 'buddhist', 'cells', 'relative', 'absolute', 'reveal', 'eat', 'translations', 'narrative']\n"
     ]
    }
   ],
   "source": [
    "# Read the words into list\n",
    "words = open('words.txt','r').read().split('\\n')\n",
    "# print(words)\n",
    "wordIdMax = len(words)\n",
    "print(words[:10])\n"
   ]
  },
  {
   "cell_type": "code",
   "execution_count": 3,
   "metadata": {},
   "outputs": [],
   "source": [
    "\n",
    "# docId and wordId start from 1, make them start from zero.\n",
    "training_data[:,0] -= 1\n",
    "training_data[:,1] -= 1\n",
    "\n",
    "testing_data[:,0] -= 1\n",
    "testing_data[:,1] -= 1\n",
    "\n",
    "# data /label -> matrix\n",
    "# csr_matrix((data, (row, col)), shape=(3, 3))\n",
    "training_matrix = csr_matrix((\n",
    "    np.ones(np.size(training_data,0)),\n",
    "    (training_data[:,0], training_data[:,1]), \n",
    "))\n",
    "\n",
    "testing_matrix = csr_matrix((\n",
    "    np.ones(np.size(testing_data,0)),\n",
    "    (testing_data[:,0], testing_data[:,1]), \n",
    "))\n",
    "\n",
    "\n"
   ]
  },
  {
   "cell_type": "code",
   "execution_count": 9,
   "metadata": {},
   "outputs": [
    {
     "name": "stdout",
     "output_type": "stream",
     "text": [
      "(1500,)\n",
      "(1500, 6966)\n"
     ]
    }
   ],
   "source": [
    "print(training_label.shape)\n",
    "print(training_matrix.shape)\n",
    "training_label = training_label.reshape(training_label.shape[0],1)"
   ]
  },
  {
   "cell_type": "code",
   "execution_count": null,
   "metadata": {},
   "outputs": [],
   "source": [
    "testing_label = testing_label.reshape(testing_label.shape[0],1)"
   ]
  },
  {
   "cell_type": "code",
   "execution_count": null,
   "metadata": {},
   "outputs": [],
   "source": []
  },
  {
   "cell_type": "code",
   "execution_count": null,
   "metadata": {},
   "outputs": [],
   "source": []
  },
  {
   "cell_type": "code",
   "execution_count": null,
   "metadata": {},
   "outputs": [],
   "source": []
  }
 ],
 "metadata": {
  "kernelspec": {
   "display_name": "'Python Interactive'",
   "language": "python",
   "name": "7229f445-2628-4cd0-95d8-55280ae2b810"
  },
  "language_info": {
   "codemirror_mode": {
    "name": "ipython",
    "version": 3
   },
   "file_extension": ".py",
   "mimetype": "text/x-python",
   "name": "python",
   "nbconvert_exporter": "python",
   "pygments_lexer": "ipython3",
   "version": "3.7.5"
  }
 },
 "nbformat": 4,
 "nbformat_minor": 2
}
