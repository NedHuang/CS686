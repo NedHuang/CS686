{
 "cells": [
  {
   "cell_type": "code",
   "execution_count": 1,
   "metadata": {},
   "outputs": [],
   "source": [
    "import numpy as np\n",
    "import pandas as pd\n",
    "import sklearn\n"
   ]
  },
  {
   "cell_type": "code",
   "execution_count": 2,
   "metadata": {},
   "outputs": [
    {
     "name": "stdout",
     "output_type": "stream",
     "text": [
      "  Trav  Prob\n",
      "0    T  0.05\n",
      "1    F  0.95 \n",
      "------------------------------\n",
      "  Fraud Trav   Prob\n",
      "0     T    T  0.010\n",
      "1     F    T  0.990\n",
      "2     T    F  0.004\n",
      "3     F    F  0.996 \n",
      "------------------------------\n",
      "  Fraud FP Trav  Prob\n",
      "0     T  T    T  0.90\n",
      "1     F  T    T  0.90\n",
      "2     T  F    T  0.10\n",
      "3     F  F    T  0.10\n",
      "4     T  T    F  0.10\n",
      "5     F  T    F  0.01\n",
      "6     T  F    F  0.90\n",
      "7     F  F    F  0.99 \n",
      "------------------------------\n",
      "  OC  Prob\n",
      "0  T   0.6\n",
      "1  F   0.4 \n",
      "------------------------------\n",
      "  Fraud IP OC   Prob\n",
      "0     T  T  T  0.020\n",
      "1     F  T  T  0.010\n",
      "2     T  F  T  0.980\n",
      "3     F  F  T  0.990\n",
      "4     T  T  F  0.011\n",
      "5     F  T  F  0.001\n",
      "6     T  F  F  0.989\n",
      "7     F  F  F  0.999 \n",
      "------------------------------\n",
      "  CRP OC   Prob\n",
      "0   T  T  0.100\n",
      "1   F  T  0.900\n",
      "2   T  F  0.001\n",
      "3   F  F  0.999 \n",
      "------------------------------\n"
     ]
    }
   ],
   "source": [
    "# On average, 5% of all transactions happen while the card holder is travelling.\n",
    "f0 = pd.DataFrame({'Trav':['T',  'F'],\n",
    "                   'Prob':[0.05, 0.95]})\n",
    "print(f0,'\\n------------------------------')\n",
    "\n",
    "# More precisely, 1% of transactions are fraudulent when the card holder is travelling,where as only 0.4% of the transactions are fraudulent when she is not travelling.\n",
    "f1 = pd.DataFrame({'Fraud':['T',  'F',  'T',   'F'],\n",
    "                   'Trav': ['T',  'T',  'F',   'F'],\n",
    "                   'Prob': [0.01, 0.99, 0.004, 0.996]\n",
    "                  })\n",
    "print(f1,'\\n------------------------------')\n",
    "\n",
    "\n",
    "\n",
    "# # On average, 5% of all transactions happen while the card holder is travelling.\n",
    "# f2 = pd.DataFrame({'Trav':['T','F'],'Prob':[0.05,0.95]})\n",
    "# print(f2,'\\n------------------------------')\n",
    "\n",
    "# not travelling, 10% of the fraudulent transactions are foreign purchases where as only 1% of the legitimate transactions are foreign purchases.\n",
    "#  is travelling, 90% of the transactions are foreign purchases regardless of the legitimacy of the transactions.\n",
    "f2 = pd.DataFrame({'Fraud':  ['T', 'F', 'T', 'F', 'T',  'F', 'T', 'F'], \n",
    "                    'FP':    ['T', 'T', 'F', 'F', 'T',  'T', 'F', 'F'],\n",
    "                   'Trav':   ['T', 'T', 'T', 'T', 'F',  'F', 'F', 'F'], \n",
    "                    'Prob':  [0.9, 0.9, 0.1, 0.1, 0.1, 0.01, 0.9, 0.99]})\n",
    "print(f2,'\\n------------------------------')\n",
    "# 60% of the population owns a computer and for those card holders\n",
    "f3 = pd.DataFrame({'OC':['T','F'],'Prob':[0.6,0.4]})\n",
    "print(f3,'\\n------------------------------')\n",
    "# Own Computer: 1% of their legitimate transactions are done over the internet, however this percentage increases to 2% for fraudulent transactions.\n",
    "# not own computer:a mere 0.1% of their legitimate transactions is done over the internet, but that number increases to 1.1% for fraudulent transactions.\n",
    "f4 = pd.DataFrame({'Fraud':  ['T', 'F', 'T',  'F',  'T',  'F', 'T', 'F'], \n",
    "                    'IP':    ['T', 'T', 'F',  'F',  'T',  'T', 'F', 'F'],\n",
    "                    'OC':    ['T', 'T', 'T',  'T',  'F',  'F', 'F', 'F'],\n",
    "                  'Prob':    [0.02,0.01,0.98,0.99,0.011,0.001,0.989,0.999]})\n",
    "print(f4,'\\n------------------------------')\n",
    "# 10% of those who own a computer purchase with their credit card at least\n",
    "# one computer related item as opposed to just 0.1% of those who don’t own any computer.\n",
    "f5 = pd.DataFrame({'CRP': ['T','F','T','F'],\n",
    "                   'OC':  ['T','T','F','F'],\n",
    "                   'Prob':[0.1,0.9,0.001,0.999],\n",
    "})\n",
    "print(f5,'\\n------------------------------')"
   ]
  },
  {
   "cell_type": "code",
   "execution_count": 3,
   "metadata": {},
   "outputs": [
    {
     "name": "stdout",
     "output_type": "stream",
     "text": [
      "  Fraud IP OC  Prob\n",
      "0     T  T  T  0.02\n",
      "1     F  T  T  0.01\n",
      "2     T  F  T  0.98\n",
      "3     F  F  T  0.99\n"
     ]
    }
   ],
   "source": [
    "def restrict(factor, variable, value):\n",
    "    factor = factor.loc[factor[variable] == value]\n",
    "#     del factor[variable]\n",
    "    return factor\n",
    "print(restrict(f4,'OC','T'))"
   ]
  },
  {
   "cell_type": "code",
   "execution_count": 4,
   "metadata": {},
   "outputs": [
    {
     "name": "stdout",
     "output_type": "stream",
     "text": [
      "  Fraud Trav    Prob\n",
      "0     T    T  0.0005\n",
      "1     F    T  0.0495\n",
      "2     T    F  0.0038\n",
      "3     F    F  0.9462\n"
     ]
    }
   ],
   "source": [
    "def multiply(factor1,factor2):\n",
    "    new_columns = list(set(f1.columns)|set(factor2.columns))\n",
    "    if len(set(factor1.columns)) < len(set(factor2.columns)):\n",
    "        factor1,factor2 = factor2,factor1\n",
    "    common_keys = list(set(list(factor1.columns))  &  set(list(factor2.columns)))\n",
    "    common_keys.remove('Prob')\n",
    "    unique_keys = list(set(list(factor1.columns))  -  set(list(factor2.columns)))\n",
    "    unique_keys.append('Prob')\n",
    "    t1 = pd.merge(factor1,factor2,on=common_keys)\n",
    "    t1['Prob']=t1['Prob_x']*t1['Prob_y']\n",
    "    all_keys = t1.columns\n",
    "#     for i in all_keys:\n",
    "#         if i == None:\n",
    "#             continue\n",
    "#         if not i in unique_keys:\n",
    "#             del t1[i]\n",
    "    del t1['Prob_x']\n",
    "    del t1['Prob_y']\n",
    "    return t1\n",
    "b=multiply(f0,f1)\n",
    "print(b)"
   ]
  },
  {
   "cell_type": "code",
   "execution_count": 5,
   "metadata": {},
   "outputs": [
    {
     "name": "stdout",
     "output_type": "stream",
     "text": [
      "         Prob\n",
      "Fraud        \n",
      "F      0.9957\n",
      "T      0.0043\n"
     ]
    }
   ],
   "source": [
    "def sumout(factor, variable):\n",
    "    return factor.groupby(variable).sum()\n",
    "d= sumout(b,'Fraud')\n",
    "print(d)"
   ]
  },
  {
   "cell_type": "code",
   "execution_count": 6,
   "metadata": {},
   "outputs": [],
   "source": [
    "# def sumout(factor, variable):\n",
    "#     factor=factor.drop(columns=[variable])\n",
    "#     print(factor)\n",
    "#     c = list(factor.columns).pop()\n",
    "#     return factor.groupby(c)['Prob'].sum()\n",
    "\n",
    "# d= sumout(b,'Fraud')\n",
    "# print(d)"
   ]
  },
  {
   "cell_type": "code",
   "execution_count": 7,
   "metadata": {},
   "outputs": [
    {
     "name": "stdout",
     "output_type": "stream",
     "text": [
      "  Fraud Trav    Prob\n",
      "0     T    T  0.0005\n",
      "1     F    T  0.0495\n",
      "2     T    F  0.0038\n",
      "3     F    F  0.9462\n"
     ]
    },
    {
     "data": {
      "text/plain": [
       "1.0"
      ]
     },
     "execution_count": 7,
     "metadata": {},
     "output_type": "execute_result"
    }
   ],
   "source": [
    "def normalize(factor):\n",
    "    s = factor['Prob'].sum()\n",
    "    \n",
    "    factor['Prob']/=s\n",
    "    return factor\n",
    "print(normalize(b))\n",
    "sum(list(normalize(b)['Prob']))"
   ]
  },
  {
   "cell_type": "code",
   "execution_count": 8,
   "metadata": {},
   "outputs": [],
   "source": [
    "def inference(factList, queryVar, HiddenVars, evidList):\n",
    "    result = None\n",
    "    # get a restricted factor set  \n",
    "    restricted = []\n",
    "    for factor in factList:\n",
    "        for var in evidList.keys():\n",
    "            if var not in factor.columns:\n",
    "                continue\n",
    "            factor = restrict(factor,var,evidList[var])\n",
    "            restricted.append(factor)\n",
    "    factList = [f for f in factList if not set(f.columns) in [set(rf.columns) for rf in restricted]]\n",
    "    factList = factList+restricted\n",
    "\n",
    "    for hv in HiddenVars:\n",
    "        if hv in evidList:\n",
    "            continue\n",
    "        if hv in queryVar:\n",
    "            print(hv,'in QueryVar')\n",
    "            continue\n",
    "        checkList = []\n",
    "        newFactList = []\n",
    "        for f in factList:\n",
    "            if hv in f.columns:\n",
    "                checkList.append(f)\n",
    "            else:\n",
    "                newFactList.append(f)\n",
    "        if len(checkList) == 0:\n",
    "            continue\n",
    "        p = checkList[0]\n",
    "        for i in range(1,len(checkList)):\n",
    "            p = multiply(p,checkList[i])\n",
    "        newFactList.append(p)\n",
    "        factList = newFactList\n",
    "        print('\\n ----------------elimited var:%s --------\\n'%hv)\n",
    "        for i in factList:\n",
    "            print(i)\n",
    "    print('-----------------------')\n",
    "    \n",
    "    p = factList[0]\n",
    "    for i in range(1,len(factList)):\n",
    "        p = multiply(p,factList[i])\n",
    "    ans = sumout(p,queryVar)\n",
    "    ans = normalize(ans)\n",
    "    \n",
    "    return ans\n",
    "    \n",
    "#     for i in range(1,len(factList)):\n",
    "#         p = multiply(p,factList[i])\n",
    "#     return p"
   ]
  },
  {
   "cell_type": "markdown",
   "metadata": {},
   "source": [
    "## B (1)"
   ]
  },
  {
   "cell_type": "code",
   "execution_count": 9,
   "metadata": {},
   "outputs": [
    {
     "data": {
      "text/html": [
       "<div>\n",
       "<style scoped>\n",
       "    .dataframe tbody tr th:only-of-type {\n",
       "        vertical-align: middle;\n",
       "    }\n",
       "\n",
       "    .dataframe tbody tr th {\n",
       "        vertical-align: top;\n",
       "    }\n",
       "\n",
       "    .dataframe thead th {\n",
       "        text-align: right;\n",
       "    }\n",
       "</style>\n",
       "<table border=\"1\" class=\"dataframe\">\n",
       "  <thead>\n",
       "    <tr style=\"text-align: right;\">\n",
       "      <th></th>\n",
       "      <th>Prob</th>\n",
       "    </tr>\n",
       "    <tr>\n",
       "      <th>Fraud</th>\n",
       "      <th></th>\n",
       "    </tr>\n",
       "  </thead>\n",
       "  <tbody>\n",
       "    <tr>\n",
       "      <th>F</th>\n",
       "      <td>0.9957</td>\n",
       "    </tr>\n",
       "    <tr>\n",
       "      <th>T</th>\n",
       "      <td>0.0043</td>\n",
       "    </tr>\n",
       "  </tbody>\n",
       "</table>\n",
       "</div>"
      ],
      "text/plain": [
       "         Prob\n",
       "Fraud        \n",
       "F      0.9957\n",
       "T      0.0043"
      ]
     },
     "execution_count": 9,
     "metadata": {},
     "output_type": "execute_result"
    }
   ],
   "source": [
    "# B_1\n",
    "a = multiply(f0,f1)\n",
    "sumout(a,'Fraud')"
   ]
  },
  {
   "cell_type": "markdown",
   "metadata": {},
   "source": [
    "## B (2)"
   ]
  },
  {
   "cell_type": "code",
   "execution_count": 10,
   "metadata": {},
   "outputs": [
    {
     "name": "stdout",
     "output_type": "stream",
     "text": [
      "\n",
      " ----------------elimited var:Trav --------\n",
      "\n",
      "  OC  Prob\n",
      "0  T   0.6\n",
      "1  F   0.4\n",
      "  Fraud IP OC   Prob\n",
      "2     T  F  T  0.980\n",
      "3     F  F  T  0.990\n",
      "6     T  F  F  0.989\n",
      "7     F  F  F  0.999\n",
      "  CRP OC   Prob\n",
      "0   T  T  0.100\n",
      "2   T  F  0.001\n",
      "  Fraud FP Trav      Prob\n",
      "0     T  T    T  0.000450\n",
      "1     F  T    T  0.044550\n",
      "2     T  T    F  0.000380\n",
      "3     F  T    F  0.009462\n",
      "Fraud in QueryVar\n",
      "\n",
      " ----------------elimited var:OC --------\n",
      "\n",
      "  Fraud FP Trav      Prob\n",
      "0     T  T    T  0.000450\n",
      "1     F  T    T  0.044550\n",
      "2     T  T    F  0.000380\n",
      "3     F  T    F  0.009462\n",
      "  Fraud IP OC CRP      Prob\n",
      "0     T  F  T   T  0.058800\n",
      "1     F  F  T   T  0.059400\n",
      "2     T  F  F   T  0.000396\n",
      "3     F  F  F   T  0.000400\n",
      "-----------------------\n",
      "           Prob\n",
      "Fraud          \n",
      "F      0.985016\n",
      "T      0.014984\n"
     ]
    }
   ],
   "source": [
    "# B_2\n",
    "fl=[f0,f1,f2,f3,f4,f5]\n",
    "qv = ['Fraud']\n",
    "oLHV = ['Trav', 'FP', 'Fraud', 'IP', 'OC', 'CRP']\n",
    "eL = {'IP':'F', 'CRP': 'T', 'FP': 'T'}\n",
    "ans= inference(fl,qv,oLHV,eL)\n",
    "print(ans)\n"
   ]
  },
  {
   "cell_type": "markdown",
   "metadata": {},
   "source": [
    "## C"
   ]
  },
  {
   "cell_type": "code",
   "execution_count": 11,
   "metadata": {},
   "outputs": [
    {
     "name": "stdout",
     "output_type": "stream",
     "text": [
      "Fraud in QueryVar\n",
      "\n",
      " ----------------elimited var:OC --------\n",
      "\n",
      "  Trav  Prob\n",
      "0    T  0.05\n",
      "  Fraud Trav  Prob\n",
      "0     T    T  0.01\n",
      "1     F    T  0.99\n",
      "  Fraud FP Trav  Prob\n",
      "0     T  T    T  0.90\n",
      "1     F  T    T  0.90\n",
      "4     T  T    F  0.10\n",
      "5     F  T    F  0.01\n",
      "  Fraud FP Trav  Prob\n",
      "0     T  T    T   0.9\n",
      "1     F  T    T   0.9\n",
      "  Fraud IP OC CRP      Prob\n",
      "0     T  F  T   T  0.058800\n",
      "1     F  F  T   T  0.059400\n",
      "2     T  F  F   T  0.000396\n",
      "3     F  F  F   T  0.000400\n",
      "-----------------------\n",
      "         Prob\n",
      "Fraud        \n",
      "F      0.9901\n",
      "T      0.0099\n"
     ]
    }
   ],
   "source": [
    "# C\n",
    "fl=[f0,f1,f2,f3,f4,f5]\n",
    "qv = ['Fraud']\n",
    "oLHV = ['Trav', 'FP', 'Fraud', 'IP', 'OC', 'CRP']\n",
    "\n",
    "eL = {'IP':'F', 'CRP': 'T', 'FP': 'T','Trav':'T'}\n",
    "\n",
    "ans=inference(fl, qv,oLHV,eL)\n",
    "print(ans)"
   ]
  },
  {
   "cell_type": "markdown",
   "metadata": {},
   "source": [
    "## D\n"
   ]
  },
  {
   "cell_type": "markdown",
   "metadata": {},
   "source": [
    "Use it to buy something with  a computer related purchase.\n",
    "Then make the internet purchase.\n",
    "Then "
   ]
  },
  {
   "cell_type": "code",
   "execution_count": 12,
   "metadata": {},
   "outputs": [],
   "source": [
    "# df2 = pd.DataFrame({'Trav':  ['F', 'F', 'T', 'T', 'F', 'F', 'T', 'T'], \n",
    "#                     'Fraud': ['T', 'F', 'T', 'F', 'T', 'F', 'T', 'F'], \n",
    "#                     'FP':    ['T','T','T','T', 'F', 'F', 'F', 'F'], \n",
    "#                     \"F\":     [0.1,0.01,0.9,0.9, 0.9,0.99,0.1,0.1]})\n",
    "\n",
    "# pd.merge(f3,df2,on=['FP','Fraud','Trav'])"
   ]
  },
  {
   "cell_type": "code",
   "execution_count": 13,
   "metadata": {},
   "outputs": [],
   "source": [
    "# df4 = pd.DataFrame({'OC': ['T', 'T', 'F', 'F', 'T', 'T', 'F', 'F'], \n",
    "#                     'Fraud': ['F', 'T', 'F', 'T', 'F', 'T', 'F', 'T'],\n",
    "#                     'IP': ['F', 'F', 'F', 'F', 'T', 'T', 'T', 'T'], \n",
    "#                     \"F\": [0.99, 0.98, 0.999, 0.989, 0.01, 0.02, 0.001, 0.011]})\n",
    "\n",
    "# pd.merge(f5,df4,on=['IP','Fraud','OC'])"
   ]
  },
  {
   "cell_type": "code",
   "execution_count": 14,
   "metadata": {},
   "outputs": [],
   "source": [
    "# df5 = pd.DataFrame({'OC': ['T', 'F', 'T', 'F'],'CRP': ['T', 'T', 'F', 'F'], \"F\": [0.1, 0.001, 0.9, 0.999]})\n",
    "# pd.merge(f6,df5,on=['CRP','OC'])"
   ]
  },
  {
   "cell_type": "code",
   "execution_count": null,
   "metadata": {},
   "outputs": [],
   "source": []
  }
 ],
 "metadata": {
  "kernelspec": {
   "display_name": "'Python Interactive'",
   "language": "python",
   "name": "7229f445-2628-4cd0-95d8-55280ae2b810"
  },
  "language_info": {
   "codemirror_mode": {
    "name": "ipython",
    "version": 3
   },
   "file_extension": ".py",
   "mimetype": "text/x-python",
   "name": "python",
   "nbconvert_exporter": "python",
   "pygments_lexer": "ipython3",
   "version": "3.7.5"
  }
 },
 "nbformat": 4,
 "nbformat_minor": 2
}
