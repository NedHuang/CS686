{
 "cells": [
  {
   "cell_type": "code",
   "execution_count": 13,
   "metadata": {},
   "outputs": [],
   "source": [
    "import numpy as np\n",
    "import pandas as pd\n",
    "import math\n",
    "from scipy.sparse import csr_matrix\n",
    "import collections\n",
    "\n",
    "# import data\n",
    "trainData = np.loadtxt(fname=\"./datasets/trainData.txt\",dtype=int)\n",
    "testData = np.loadtxt(fname=\"./datasets/testData.txt\",dtype=int)\n",
    "trainLabel = np.loadtxt(fname=\"./datasets/trainLabel.txt\",dtype=int)\n",
    "testLabel = np.loadtxt(fname=\"./datasets/testLabel.txt\",dtype=int)\n",
    "word  = np.loadtxt(fname=\"./datasets/words.txt\",dtype=str)\n",
    "words = pd.read_csv(\"./datasets/words.txt\", names = ['word'])\n"
   ]
  },
  {
   "cell_type": "markdown",
   "metadata": {},
   "source": [
    "# Part A"
   ]
  },
  {
   "cell_type": "code",
   "execution_count": 14,
   "metadata": {},
   "outputs": [],
   "source": [
    "trainData=csr_matrix((np.ones(np.size(trainData,0)), (trainData[:,0]-1, trainData[:,1]-1)),\\\n",
    "                           shape=(max(trainData[:,0]), 6967)).todense()\n",
    "testData=csr_matrix((np.ones(np.size(testData,0)), (testData[:,0]-1, testData[:,1]-1)),\\\n",
    "                           shape=(max(testData[:,0]), 6967)).todense()\n"
   ]
  },
  {
   "cell_type": "code",
   "execution_count": 15,
   "metadata": {},
   "outputs": [],
   "source": [
    "trainData = np.array(trainData)\n",
    "testData = np.array(testData)\n",
    "trainLabel=trainLabel.reshape(1500,1)\n",
    "testLabel=testLabel.reshape(1500,1)"
   ]
  },
  {
   "cell_type": "code",
   "execution_count": 16,
   "metadata": {},
   "outputs": [
    {
     "name": "stdout",
     "output_type": "stream",
     "text": [
      "(1500, 6967) <class 'numpy.ndarray'>\n",
      "(1500, 1) <class 'numpy.ndarray'>\n",
      "(1500, 6967) <class 'numpy.ndarray'>\n",
      "(1500, 1) <class 'numpy.ndarray'>\n"
     ]
    }
   ],
   "source": [
    "# [features, label]\n",
    "train = np.hstack([trainData,trainLabel])\n",
    "test = np.hstack([testData,testLabel])\n",
    "print(trainData.shape,type(trainData))\n",
    "print(trainLabel.shape,type(trainLabel))\n",
    "print(testData.shape,type(testData))\n",
    "print(testLabel.shape,type(testLabel))\n"
   ]
  },
  {
   "cell_type": "code",
   "execution_count": 17,
   "metadata": {},
   "outputs": [
    {
     "name": "stdout",
     "output_type": "stream",
     "text": [
      "[[0. 0. 0. ... 0. 0. 1.]\n",
      " [0. 0. 0. ... 0. 0. 1.]\n",
      " [0. 0. 0. ... 0. 0. 1.]\n",
      " ...\n",
      " [0. 0. 0. ... 0. 0. 2.]\n",
      " [0. 0. 0. ... 0. 0. 2.]\n",
      " [0. 0. 0. ... 0. 0. 2.]]\n",
      "[[0. 0. 0. ... 0. 0. 1.]\n",
      " [0. 0. 0. ... 0. 0. 1.]\n",
      " [0. 0. 0. ... 0. 0. 1.]\n",
      " ...\n",
      " [0. 0. 0. ... 0. 0. 2.]\n",
      " [0. 0. 0. ... 0. 0. 2.]\n",
      " [0. 0. 0. ... 0. 0. 2.]]\n",
      "(1500, 6968) <class 'numpy.ndarray'>\n",
      "(1500, 6968) <class 'numpy.ndarray'>\n"
     ]
    }
   ],
   "source": [
    "print(train)\n",
    "print(test)\n",
    "print(train.shape,type(train))\n",
    "print(test.shape,type(test))"
   ]
  },
  {
   "cell_type": "code",
   "execution_count": 18,
   "metadata": {},
   "outputs": [
    {
     "name": "stdout",
     "output_type": "stream",
     "text": [
      "word_index:    192\tword:  christian \tlog_diff: 3.5835189384561104\n",
      "word_index:   5239\tword:   religion \tlog_diff: 3.5115454388310208\n",
      "word_index:   4661\tword:    atheism \tlog_diff: 3.2958368660043296\n",
      "word_index:   2436\tword:      books \tlog_diff: 3.242592351485517\n",
      "word_index:   4828\tword:    library \tlog_diff: 3.218875824868201\n",
      "word_index:   1238\tword: christians \tlog_diff: 3.218875824868201\n",
      "word_index:    198\tword:  religious \tlog_diff: 3.091042453358316\n",
      "word_index:   3162\tword:  libraries \tlog_diff: 3.091042453358316\n",
      "word_index:   6897\tword:      novel \tlog_diff: 3.091042453358316\n",
      "word_index:   6526\tword: characters \tlog_diff: 2.9957322735539913\n"
     ]
    }
   ],
   "source": [
    "cat1 = train[train[:,-1]==1]\n",
    "cat2 = train[train[:,-1]==2]\n",
    "cat2[:,-1]=1\n",
    "\n",
    "cat1_sum = np.sum(cat1,axis=0)\n",
    "cat2_sum = np.sum(cat2,axis=0)\n",
    "\n",
    "cat1_sum[:-1] +=1\n",
    "cat2_sum[:-1] +=1\n",
    "\n",
    "cat1_sum[-1] +=2\n",
    "cat2_sum[-1] +=2\n",
    "\n",
    "cat1_prob = cat1_sum/ cat1_sum[-1]\n",
    "cat2_prob = cat2_sum/ cat2_sum[-1]\n",
    "cat1_log = np.log(cat1_prob)\n",
    "cat2_log = np.log(cat2_prob)\n",
    "\n",
    "diff = np.abs(cat1_log - cat2_log)\n",
    "# remove the tag\n",
    "diff_no_label = np.abs(diff[:-1])\n",
    "index = np.argsort(diff_no_label)[::-1]\n",
    "top_10_index = index[:10]\n",
    "w = words['word'].to_list()\n",
    "for i in top_10_index:\n",
    "    print('word_index: %6d\\tword: %10s \\tlog_diff: '%(i,w[i]) + str(diff[i]))"
   ]
  },
  {
   "cell_type": "markdown",
   "metadata": {},
   "source": [
    "# Part B"
   ]
  },
  {
   "cell_type": "code",
   "execution_count": 19,
   "metadata": {},
   "outputs": [],
   "source": [
    "N = 1500\n",
    "theta_c1 = 0.5\n",
    "theta_c2 = 0.5\n",
    "theta_a1 = train[train[:,-1]==1][:,:-1]\n",
    "theta_a2 = train[train[:,-1]==2][:,:-1]\n",
    "theta_a1 = np.sum(theta_a1,axis=0)+1\n",
    "theta_a2 = np.sum(theta_a2,axis=0)+1\n",
    "theta_a1 = theta_a1/752\n",
    "theta_a2 = theta_a2/752"
   ]
  },
  {
   "cell_type": "code",
   "execution_count": 20,
   "metadata": {},
   "outputs": [
    {
     "name": "stdout",
     "output_type": "stream",
     "text": [
      "(1500,)\n"
     ]
    }
   ],
   "source": [
    "prob_1 = trainData*np.log(theta_a1) + (1-trainData)*np.log(1-theta_a1)\n",
    "prob_2 = trainData*np.log(theta_a2) + (1-trainData)*np.log(1-theta_a2)\n",
    "prob_1 = np.sum(prob_1,axis=1)\n",
    "prob_2 = np.sum(prob_2,axis=1)\n",
    "print(prob_1.shape)"
   ]
  },
  {
   "cell_type": "code",
   "execution_count": 21,
   "metadata": {},
   "outputs": [
    {
     "name": "stdout",
     "output_type": "stream",
     "text": [
      "Training Accuracy\n",
      "0.9026666666666666\n"
     ]
    }
   ],
   "source": [
    "\n",
    "cat = prob_1/(prob_1+prob_2)\n",
    "cat[cat > 0.5] = 2\n",
    "cat[cat <= 0.5] = 1\n",
    "cat.reshape((1500,1))\n",
    "cat = np.array(list(cat))\n",
    "tL = np.array(list(trainLabel.flatten()))\n",
    "print('Training Accuracy')\n",
    "print(np.count_nonzero(cat == tL)/1500)"
   ]
  },
  {
   "cell_type": "code",
   "execution_count": 22,
   "metadata": {},
   "outputs": [],
   "source": [
    "# N = 1500\n",
    "# theta_c1 = 0.5\n",
    "# theta_c2 = 0.5\n",
    "# theta_a1 = train[train[:,-1]==1][:,:-1]\n",
    "# theta_a2 = train[train[:,-1]==2][:,:-1]\n",
    "# theta_a1 = np.sum(theta_a1,axis=0)+1\n",
    "# theta_a2 = np.sum(theta_a2,axis=0)+1\n",
    "# theta_a1 = theta_a1/752\n",
    "# theta_a2 = theta_a2/752"
   ]
  },
  {
   "cell_type": "code",
   "execution_count": 23,
   "metadata": {},
   "outputs": [],
   "source": [
    "prob_1 = testData*np.log(theta_a1) + (1-testData)*np.log(1-theta_a1)\n",
    "prob_2 = testData*np.log(theta_a2) + (1-testData)*np.log(1-theta_a2)\n",
    "prob_1 = np.sum(prob_1,axis=1)\n",
    "prob_2 = np.sum(prob_2,axis=1)"
   ]
  },
  {
   "cell_type": "code",
   "execution_count": 24,
   "metadata": {},
   "outputs": [
    {
     "name": "stdout",
     "output_type": "stream",
     "text": [
      "Testing Accuracy\n",
      "0.7446666666666667\n"
     ]
    }
   ],
   "source": [
    "cat = prob_1/(prob_1+prob_2)\n",
    "cat[cat > 0.5] = 2\n",
    "cat[cat <= 0.5] = 1\n",
    "cat.reshape((1500,1))\n",
    "cat = np.array(list(cat))\n",
    "tL = np.array(list(testLabel.flatten()))\n",
    "print('Testing Accuracy')\n",
    "print(np.count_nonzero(cat == tL)/1500)"
   ]
  },
  {
   "cell_type": "code",
   "execution_count": null,
   "metadata": {},
   "outputs": [],
   "source": []
  },
  {
   "cell_type": "code",
   "execution_count": null,
   "metadata": {},
   "outputs": [],
   "source": []
  }
 ],
 "metadata": {
  "kernelspec": {
   "display_name": "'Python Interactive'",
   "language": "python",
   "name": "7229f445-2628-4cd0-95d8-55280ae2b810"
  },
  "language_info": {
   "codemirror_mode": {
    "name": "ipython",
    "version": 3
   },
   "file_extension": ".py",
   "mimetype": "text/x-python",
   "name": "python",
   "nbconvert_exporter": "python",
   "pygments_lexer": "ipython3",
   "version": "3.7.5"
  }
 },
 "nbformat": 4,
 "nbformat_minor": 2
}
